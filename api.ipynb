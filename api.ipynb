{
 "cells": [
  {
   "cell_type": "code",
   "execution_count": null,
   "metadata": {},
   "outputs": [
    {
     "name": "stderr",
     "output_type": "stream",
     "text": [
      "2025-03-27 14:59:16,989 - INFO - Modelo cargado exitosamente.\n",
      "2025-03-27 14:59:16,995 - INFO - Iniciando servidor FastAPI en http://0.0.0.0:8000\n",
      "2025-03-27 14:59:16,996 - INFO - Prueba de log: La aplicación está iniciando.\n",
      "INFO:     Started server process [19076]\n",
      "INFO:     Waiting for application startup.\n",
      "INFO:     Application startup complete.\n",
      "INFO:     Uvicorn running on http://0.0.0.0:8000 (Press CTRL+C to quit)\n",
      "2025-03-27 14:59:34,729 - INFO - Predicción realizada: [1]\n"
     ]
    },
    {
     "name": "stdout",
     "output_type": "stream",
     "text": [
      "INFO:     127.0.0.1:64538 - \"POST /predict HTTP/1.1\" 200 OK\n",
      "INFO:     186.84.89.128:0 - \"POST /content HTTP/1.1\" 404 Not Found\n"
     ]
    },
    {
     "name": "stderr",
     "output_type": "stream",
     "text": [
      "2025-03-27 15:16:11,583 - INFO - Predicción realizada: [1]\n"
     ]
    },
    {
     "name": "stdout",
     "output_type": "stream",
     "text": [
      "INFO:     186.84.89.128:0 - \"POST /predict HTTP/1.1\" 200 OK\n"
     ]
    },
    {
     "name": "stderr",
     "output_type": "stream",
     "text": [
      "INFO:     Shutting down\n",
      "INFO:     Waiting for application shutdown.\n",
      "INFO:     Application shutdown complete.\n",
      "INFO:     Finished server process [19076]\n"
     ]
    }
   ],
   "source": [
    "import os\n",
    "import logging\n",
    "import joblib\n",
    "import uvicorn\n",
    "import nest_asyncio\n",
    "import numpy as np\n",
    "from fastapi import FastAPI\n",
    "from typing import List\n",
    "from pydantic import BaseModel\n",
    "\n",
    "#  Asegurar que la carpeta 'logs/' existe\n",
    "if not os.path.exists(\"logs\"):\n",
    "    os.makedirs(\"logs\")\n",
    "\n",
    "#  Configurar ruta absoluta para el archivo de logs\n",
    "log_file = os.path.join(os.getcwd(), \"logs\", \"app.log\")\n",
    "\n",
    "# Configuración de logging con ruta absoluta\n",
    "logging.basicConfig(\n",
    "    level=logging.INFO,\n",
    "    format=\"%(asctime)s - %(levelname)s - %(message)s\",\n",
    "    handlers=[\n",
    "        logging.FileHandler(log_file, mode=\"a\"),  # Guardar logs en archivo\n",
    "        logging.StreamHandler()  # Mostrar logs en consola\n",
    "    ],\n",
    "    force=True\n",
    ")\n",
    "\n",
    "logger = logging.getLogger(__name__)\n",
    "\n",
    "# Inicializar FastAPI\n",
    "app = FastAPI()\n",
    "\n",
    "#  Cargar modelo\n",
    "try:\n",
    "    model = joblib.load(\"modelo_cancer.pkl\")\n",
    "    logger.info(\"Modelo cargado exitosamente.\")\n",
    "except Exception as e:\n",
    "    logger.error(f\"Error cargando el modelo: {e}\")\n",
    "    model = None\n",
    "\n",
    "#🔹 Definir la estructura de entrada\n",
    "class InputData(BaseModel):\n",
    "    features: List[float]\n",
    "\n",
    "@app.get(\"/\")\n",
    "def read_root():\n",
    "    logger.info(\"Solicitud recibida en '/'\")\n",
    "    return {\"message\": \"API en funcionamiento\"}\n",
    "\n",
    "@app.post(\"/predict\")\n",
    "def predict(data: InputData):\n",
    "    if model is None:\n",
    "        logger.error(\"Modelo no disponible\")\n",
    "        return {\"error\": \"Modelo no disponible\"}\n",
    "    \n",
    "    try:\n",
    "        features_array = np.array(data.features).reshape(1, -1)\n",
    "        prediction = model.predict(features_array)\n",
    "        logger.info(f\"Predicción realizada: {prediction.tolist()}\")\n",
    "        return {\"prediction\": prediction.tolist()}\n",
    "    except Exception as e:\n",
    "        logger.error(f\"Error en la predicción: {e}\")\n",
    "        return {\"error\": \"Error procesando la predicción\"}\n",
    "\n",
    "#  Permitir ejecución en Jupyter Notebook (si aplica)\n",
    "nest_asyncio.apply()\n",
    "\n",
    "#  Iniciar servidor FastAPI\n",
    "if __name__ == \"__main__\":\n",
    "    logger.info(\"Iniciando servidor FastAPI en http://0.0.0.0:8000\")\n",
    "    logger.info(\"Prueba de log: La aplicación está iniciando.\")\n",
    "    uvicorn.run(app, host=\"0.0.0.0\", port=8000)\n",
    "\n"
   ]
  }
 ],
 "metadata": {
  "kernelspec": {
   "display_name": "Python 3",
   "language": "python",
   "name": "python3"
  },
  "language_info": {
   "codemirror_mode": {
    "name": "ipython",
    "version": 3
   },
   "file_extension": ".py",
   "mimetype": "text/x-python",
   "name": "python",
   "nbconvert_exporter": "python",
   "pygments_lexer": "ipython3",
   "version": "3.8.0"
  }
 },
 "nbformat": 4,
 "nbformat_minor": 2
}
